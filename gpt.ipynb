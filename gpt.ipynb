{
  "cells": [
    {
      "cell_type": "markdown",
      "metadata": {},
      "source": [
        "# GPT from scratch\n",
        "This code is based on [karpathy/nanoGPT model.py](https://github.com/karpathy/nanoGPT/blob/master/model.py)"
      ]
    },
    {
      "cell_type": "code",
      "execution_count": 42,
      "metadata": {
        "id": "q-OvnfnnBkze"
      },
      "outputs": [],
      "source": [
        "import torch\n",
        "import torch.nn as nn\n",
        "from torch.nn import functional as F\n",
        "import os"
      ]
    },
    {
      "cell_type": "code",
      "execution_count": null,
      "metadata": {
        "id": "wKZNvn1WBxFG"
      },
      "outputs": [],
      "source": [
        "# hyperparameters\n",
        "batch_size = 16 # how many independent sequences will we process in parallel?\n",
        "block_size = 32 # what is the maximum context length for predictions?\n",
        "max_iters = 5000\n",
        "eval_interval = 100\n",
        "learning_rate = 1e-3\n",
        "device = 'cuda' if torch.cuda.is_available() else 'cpu'\n",
        "eval_iters = 200\n",
        "n_embd = 64\n",
        "n_head = 4\n",
        "n_layer = 4\n",
        "dropout = 0.0"
      ]
    },
    {
      "cell_type": "code",
      "execution_count": 44,
      "metadata": {
        "id": "EWuBrIuoAQnc"
      },
      "outputs": [],
      "source": [
        "# wget https://raw.githubusercontent.com/karpathy/char-rnn/master/data/tinyshakespeare/input.txt\n",
        "if not os.path.exists('input.txt'):\n",
        "  !wget https://raw.githubusercontent.com/karpathy/char-rnn/master/data/tinyshakespeare/input.txt\n",
        "\n",
        "with open('input.txt', 'r', encoding='utf-8') as f:\n",
        "  text = f.read()"
      ]
    },
    {
      "cell_type": "code",
      "execution_count": null,
      "metadata": {
        "id": "OBkpeQzJCKQP"
      },
      "outputs": [],
      "source": [
        "# We will tokenize text letter by letter. Although GPT uses more advanced\n",
        "# tokenization methods (Byte Pair Encoding (BPE) is a method that segments text\n",
        "# into tokens based on frequently occurring subwords or word fragments, rather\n",
        "# than just individual characters or whole words.), we choose letter-by-letter\n",
        "# tokenization because it is simpler and helps better understand the inner\n",
        "# workings of GPT, which is our main goal.\n",
        "\n",
        "# To achieve this, we will implement an encoder and a decoder—functions that map\n",
        "# strings to integers and vice versa. This approach will allow us to illustrate\n",
        "# the process more clearly and provide input that the transformer model can\n",
        "# understand.\n",
        "\n",
        "# here are all the unique characters that occur in this text\n",
        "chars = sorted(list(set(text)))\n",
        "vocab_size = len(chars)\n",
        "# create a mapping from characters to integers\n",
        "stoi = { ch:i for i,ch in enumerate(chars) }\n",
        "itos = { i:ch for i,ch in enumerate(chars) }\n",
        "encode = lambda s: [stoi[c] for c in s] # encoder: take a string, output a list of integers\n",
        "decode = lambda l: ''.join([itos[i] for i in l]) # decoder: take a list of integers, output a strin"
      ]
    },
    {
      "cell_type": "code",
      "execution_count": 46,
      "metadata": {
        "id": "RdAX8VdHCOrd"
      },
      "outputs": [],
      "source": [
        "# Train and test splits\n",
        "data = torch.tensor(encode(text), dtype=torch.long)\n",
        "n = int(0.9*len(data)) # first 90% will be train, rest val\n",
        "train_data = data[:n]\n",
        "val_data = data[n:]"
      ]
    },
    {
      "cell_type": "code",
      "execution_count": 47,
      "metadata": {
        "id": "km2g99TYCSKd"
      },
      "outputs": [],
      "source": [
        "# data loading\n",
        "def get_batch(split):\n",
        "    # generate a small batch of data of inputs x and targets y\n",
        "    data = train_data if split == 'train' else val_data\n",
        "    ix = torch.randint(len(data) - block_size, (batch_size,))\n",
        "    x = torch.stack([data[i:i+block_size] for i in ix])\n",
        "    y = torch.stack([data[i+1:i+block_size+1] for i in ix])\n",
        "    x, y = x.to(device), y.to(device)\n",
        "    return x, y"
      ]
    },
    {
      "cell_type": "code",
      "execution_count": null,
      "metadata": {
        "id": "LynnsFY5CX4Y"
      },
      "outputs": [],
      "source": [
        "# This function estimates the average loss of the model on both the training and\n",
        "# validation datasets.  It runs in evaluation mode (disabling dropout and other\n",
        "# training-specific layers) to get stable loss estimates.  The torch.no_grad()\n",
        "# decorator disables gradient calculation to save memory and computation since\n",
        "# we don't need to update weights.  For each dataset split ('train' and 'val'),\n",
        "# it collects losses over multiple batches and then averages them.  Finally, it\n",
        "# returns a dictionary containing the average loss for both splits and switches\n",
        "# the model back to training mode.\n",
        "\n",
        "@torch.no_grad()\n",
        "def estimate_loss():\n",
        "    out = {}\n",
        "    model.eval()\n",
        "    for split in ['train', 'val']:\n",
        "        losses = torch.zeros(eval_iters)\n",
        "        for k in range(eval_iters):\n",
        "            X, Y = get_batch(split)\n",
        "            logits, loss = model(X, Y)\n",
        "            losses[k] = loss.item()\n",
        "        out[split] = losses.mean()\n",
        "    model.train()\n",
        "    return out"
      ]
    },
    {
      "cell_type": "code",
      "execution_count": null,
      "metadata": {
        "id": "JrP04aS2Cdsn"
      },
      "outputs": [],
      "source": [
        "\n",
        "class Head(nn.Module):\n",
        "    \"\"\" \n",
        "    Single head of self-attention mechanism.\n",
        "\n",
        "    This module implements one attention head, which:\n",
        "    - Projects input embeddings into key, query, and value vectors.\n",
        "    - Computes scaled dot-product attention scores between queries and keys.\n",
        "    - Applies a causal mask to ensure the model cannot attend to future tokens.\n",
        "    - Uses softmax to get attention weights and applies dropout for regularization.\n",
        "    - Aggregates the values weighted by attention scores to produce the output.\n",
        "    \"\"\"\n",
        "\n",
        "    def __init__(self, head_size):\n",
        "        super().__init__()\n",
        "        self.key = nn.Linear(n_embd, head_size, bias=False)\n",
        "        self.query = nn.Linear(n_embd, head_size, bias=False)\n",
        "        self.value = nn.Linear(n_embd, head_size, bias=False)\n",
        "        self.register_buffer('tril', torch.tril(torch.ones(block_size, block_size)))\n",
        "\n",
        "        self.dropout = nn.Dropout(dropout)\n",
        "\n",
        "    def forward(self, x):\n",
        "        B,T,C = x.shape\n",
        "        k = self.key(x)   # (B,T,C)\n",
        "        q = self.query(x) # (B,T,C)\n",
        "        # compute attention scores (\"affinities\")\n",
        "        wei = q @ k.transpose(-2,-1) * C**-0.5 # (B, T, C) @ (B, C, T) -> (B, T, T)\n",
        "        wei = wei.masked_fill(self.tril[:T, :T] == 0, float('-inf')) # (B, T, T)\n",
        "        wei = F.softmax(wei, dim=-1) # (B, T, T)\n",
        "        wei = self.dropout(wei)\n",
        "        # perform the weighted aggregation of the values\n",
        "        v = self.value(x) # (B,T,C)\n",
        "        out = wei @ v # (B, T, T) @ (B, T, C) -> (B, T, C)\n",
        "        return out"
      ]
    },
    {
      "cell_type": "code",
      "execution_count": null,
      "metadata": {
        "id": "BjOeZuGfCjwX"
      },
      "outputs": [],
      "source": [
        "class MultiHeadAttention(nn.Module):\n",
        "    \"\"\" \n",
        "    Implements multi-head self-attention by running multiple attention heads in parallel.\n",
        "\n",
        "    Each head independently performs scaled dot-product attention, \n",
        "    and their outputs are concatenated and projected back to the original embedding size.\n",
        "    \"\"\"\n",
        "\n",
        "    def __init__(self, num_heads, head_size):\n",
        "        super().__init__()\n",
        "        self.heads = nn.ModuleList([Head(head_size) for _ in range(num_heads)])\n",
        "        self.proj = nn.Linear(n_embd, n_embd)\n",
        "        self.dropout = nn.Dropout(dropout)\n",
        "\n",
        "    def forward(self, x):\n",
        "        out = torch.cat([h(x) for h in self.heads], dim=-1)\n",
        "        out = self.dropout(self.proj(out))\n",
        "        return out"
      ]
    },
    {
      "cell_type": "code",
      "execution_count": null,
      "metadata": {
        "id": "Hs0v7kqjCmBN"
      },
      "outputs": [],
      "source": [
        "class FeedFoward(nn.Module):\n",
        "    \"\"\"\n",
        "    A simple feed-forward neural network layer used within the transformer block.\n",
        "\n",
        "    Consists of:\n",
        "    - A linear layer that expands the embedding dimension by a factor of 4,\n",
        "    - A ReLU activation introducing non-linearity,\n",
        "    - A linear layer that projects back to the original embedding size,\n",
        "    - A dropout layer for regularization.\n",
        "    \"\"\"\n",
        "\n",
        "    def __init__(self, n_embd):\n",
        "        super().__init__()\n",
        "        self.net = nn.Sequential(\n",
        "            nn.Linear(n_embd, 4 * n_embd),\n",
        "            nn.ReLU(),\n",
        "            nn.Linear(4 * n_embd, n_embd),\n",
        "            nn.Dropout(dropout),\n",
        "        )\n",
        "\n",
        "    def forward(self, x):\n",
        "        return self.net(x)"
      ]
    },
    {
      "cell_type": "code",
      "execution_count": null,
      "metadata": {
        "id": "QTdwWMMSCog7"
      },
      "outputs": [],
      "source": [
        "class Block(nn.Module):\n",
        "    \"\"\"\n",
        "    Transformer block consisting of:\n",
        "\n",
        "    - Multi-head self-attention (\"communication\" phase) with residual connection and layer normalization.\n",
        "    - Feed-forward network (\"computation\" phase) with residual connection and layer normalization.\n",
        "\n",
        "    This structure enables the model to capture dependencies across tokens and then apply complex transformations.\n",
        "    \"\"\"\n",
        "\n",
        "    def __init__(self, n_embd, n_head):\n",
        "        # n_embd: embedding dimension, n_head: the number of heads we'd like\n",
        "        super().__init__()\n",
        "        head_size = n_embd // n_head\n",
        "        self.sa = MultiHeadAttention(n_head, head_size)\n",
        "        self.ffwd = FeedFoward(n_embd)\n",
        "        self.ln1 = nn.LayerNorm(n_embd)\n",
        "        self.ln2 = nn.LayerNorm(n_embd)\n",
        "\n",
        "    def forward(self, x):\n",
        "        x = x + self.sa(self.ln1(x))\n",
        "        x = x + self.ffwd(self.ln2(x))\n",
        "        return x"
      ]
    },
    {
      "cell_type": "code",
      "execution_count": null,
      "metadata": {
        "id": "Hs_xl9R2CwtY"
      },
      "outputs": [],
      "source": [
        "class LanguageModel(nn.Module):\n",
        "    \"\"\"\n",
        "    A language model that predicts the next token based on previous tokens,\n",
        "    using learned token and positional embeddings, followed by multiple transformer blocks.\n",
        "\n",
        "    Components:\n",
        "    - Token embeddings: maps each token index to an embedding vector.\n",
        "    - Positional embeddings: adds information about token position in the sequence.\n",
        "    - Transformer blocks: multiple layers of self-attention and feed-forward networks.\n",
        "    - Final layer normalization.\n",
        "    - Linear layer projecting embeddings to logits over the vocabulary.\n",
        "\n",
        "    The model supports both training (computing loss) and autoregressive text generation.\n",
        "    \"\"\"\n",
        "\n",
        "    def __init__(self):\n",
        "        super().__init__()\n",
        "        # each token directly reads off the logits for the next token from a lookup table\n",
        "        self.token_embedding_table = nn.Embedding(vocab_size, n_embd)\n",
        "        # positional embeddings to encode token positions in the sequence\n",
        "        # (learned embeddings here, unlike the original Transformer which used\n",
        "        # fixed sinusoidal embeddings).\n",
        "        self.position_embedding_table = nn.Embedding(block_size, n_embd)\n",
        "        self.blocks = nn.Sequential(*[Block(n_embd, n_head=n_head) for _ in range(n_layer)])\n",
        "        # LayerNorm normalizes inputs to stabilize and speed up training by\n",
        "        # reducing internal covariate shift\n",
        "        self.ln_f = nn.LayerNorm(n_embd) # final layer norm\n",
        "        self.lm_head = nn.Linear(n_embd, vocab_size)\n",
        "\n",
        "    def forward(self, idx, targets=None):\n",
        "        B, T = idx.shape\n",
        "\n",
        "        # idx and targets are both (B,T) tensor of integers\n",
        "        tok_emb = self.token_embedding_table(idx) # (B,T,C)\n",
        "        pos_emb = self.position_embedding_table(torch.arange(T, device=device)) # (T,C)\n",
        "        x = tok_emb + pos_emb # (B,T,C)\n",
        "        x = self.blocks(x) # (B,T,C)\n",
        "        x = self.ln_f(x) # (B,T,C)\n",
        "        logits = self.lm_head(x) # (B,T,vocab_size)\n",
        "\n",
        "        if targets is None:\n",
        "            loss = None\n",
        "        else:\n",
        "            B, T, C = logits.shape\n",
        "            logits = logits.view(B*T, C)\n",
        "            targets = targets.view(B*T)\n",
        "            loss = F.cross_entropy(logits, targets)\n",
        "\n",
        "        return logits, loss\n",
        "\n",
        "    def generate(self, idx, max_new_tokens):\n",
        "        # idx is (B, T) array of indices in the current context\n",
        "        for _ in range(max_new_tokens):\n",
        "            # crop idx to the last block_size tokens\n",
        "            idx_cond = idx[:, -block_size:]\n",
        "            # get the predictions\n",
        "            logits, loss = self(idx_cond)\n",
        "            # focus only on the last time step\n",
        "            logits = logits[:, -1, :] # becomes (B, C)\n",
        "            # apply softmax to get probabilities\n",
        "            probs = F.softmax(logits, dim=-1) # (B, C)\n",
        "            # sample from the distribution\n",
        "            idx_next = torch.multinomial(probs, num_samples=1) # (B, 1)\n",
        "            # append sampled index to the running sequence\n",
        "            idx = torch.cat((idx, idx_next), dim=1) # (B, T+1)\n",
        "        return idx"
      ]
    },
    {
      "cell_type": "code",
      "execution_count": null,
      "metadata": {
        "colab": {
          "base_uri": "https://localhost:8080/"
        },
        "id": "N3-pZyzoC2AP",
        "outputId": "d1b260f6-496d-4b31-9748-a435da0c0692"
      },
      "outputs": [
        {
          "name": "stdout",
          "output_type": "stream",
          "text": [
            "0.209729 M parameters\n"
          ]
        }
      ],
      "source": [
        "model = LanguageModel()\n",
        "m = model.to(device)\n",
        "# print the number of parameters in the model\n",
        "print(sum(p.numel() for p in m.parameters())/1e6, 'M parameters')\n",
        "\n",
        "optimizer = torch.optim.AdamW(model.parameters(), lr=learning_rate)"
      ]
    },
    {
      "cell_type": "code",
      "execution_count": 55,
      "metadata": {
        "colab": {
          "base_uri": "https://localhost:8080/"
        },
        "id": "8QyTDQbSC7LE",
        "outputId": "9343ea9e-9c16-4207-aa93-5b5c303b053d"
      },
      "outputs": [
        {
          "name": "stdout",
          "output_type": "stream",
          "text": [
            "step 0: train loss 4.3394, val loss 4.3431\n",
            "step 100: train loss 2.6632, val loss 2.6792\n",
            "step 200: train loss 2.5217, val loss 2.5418\n",
            "step 300: train loss 2.4542, val loss 2.4649\n",
            "step 400: train loss 2.3818, val loss 2.3967\n",
            "step 500: train loss 2.3091, val loss 2.3468\n",
            "step 600: train loss 2.2626, val loss 2.2760\n",
            "step 700: train loss 2.2163, val loss 2.2513\n",
            "step 800: train loss 2.1682, val loss 2.1930\n",
            "step 900: train loss 2.1196, val loss 2.1471\n",
            "step 1000: train loss 2.0918, val loss 2.1344\n",
            "step 1100: train loss 2.0600, val loss 2.1223\n",
            "step 1200: train loss 2.0399, val loss 2.0914\n",
            "step 1300: train loss 2.0177, val loss 2.0806\n",
            "step 1400: train loss 1.9789, val loss 2.0492\n",
            "step 1500: train loss 1.9664, val loss 2.0360\n",
            "step 1600: train loss 1.9329, val loss 2.0068\n",
            "step 1700: train loss 1.9206, val loss 2.0012\n",
            "step 1800: train loss 1.9113, val loss 1.9921\n",
            "step 1900: train loss 1.8966, val loss 1.9883\n",
            "step 2000: train loss 1.8729, val loss 1.9764\n",
            "step 2100: train loss 1.8606, val loss 1.9689\n",
            "step 2200: train loss 1.8463, val loss 1.9598\n",
            "step 2300: train loss 1.8359, val loss 1.9557\n",
            "step 2400: train loss 1.8311, val loss 1.9440\n",
            "step 2500: train loss 1.8088, val loss 1.9351\n",
            "step 2600: train loss 1.7907, val loss 1.9165\n",
            "step 2700: train loss 1.7952, val loss 1.9093\n",
            "step 2800: train loss 1.7841, val loss 1.9050\n",
            "step 2900: train loss 1.7730, val loss 1.9061\n",
            "step 3000: train loss 1.7735, val loss 1.8968\n",
            "step 3100: train loss 1.7483, val loss 1.8944\n",
            "step 3200: train loss 1.7404, val loss 1.8879\n",
            "step 3300: train loss 1.7349, val loss 1.8852\n",
            "step 3400: train loss 1.7370, val loss 1.8859\n",
            "step 3500: train loss 1.7300, val loss 1.8714\n",
            "step 3600: train loss 1.7294, val loss 1.8776\n",
            "step 3700: train loss 1.7285, val loss 1.8650\n",
            "step 3800: train loss 1.7094, val loss 1.8453\n",
            "step 3900: train loss 1.7047, val loss 1.8396\n",
            "step 4000: train loss 1.6993, val loss 1.8501\n",
            "step 4100: train loss 1.6925, val loss 1.8532\n",
            "step 4200: train loss 1.7028, val loss 1.8313\n",
            "step 4300: train loss 1.6830, val loss 1.8288\n",
            "step 4400: train loss 1.6844, val loss 1.8293\n",
            "step 4500: train loss 1.6768, val loss 1.8434\n",
            "step 4600: train loss 1.6746, val loss 1.8452\n",
            "step 4700: train loss 1.6791, val loss 1.8459\n",
            "step 4800: train loss 1.6756, val loss 1.8303\n",
            "step 4900: train loss 1.6722, val loss 1.8158\n",
            "step 4999: train loss 1.6549, val loss 1.7943\n"
          ]
        }
      ],
      "source": [
        "for iter in range(max_iters):\n",
        "\n",
        "    # every once in a while evaluate the loss on train and val sets\n",
        "    if iter % eval_interval == 0 or iter == max_iters - 1:\n",
        "        losses = estimate_loss()\n",
        "        print(f\"step {iter}: train loss {losses['train']:.4f}, val loss {losses['val']:.4f}\")\n",
        "\n",
        "    # sample a batch of data\n",
        "    xb, yb = get_batch('train')\n",
        "\n",
        "    # evaluate the loss\n",
        "    logits, loss = model(xb, yb)\n",
        "    optimizer.zero_grad(set_to_none=True)\n",
        "    loss.backward()\n",
        "    optimizer.step()"
      ]
    },
    {
      "cell_type": "code",
      "execution_count": 56,
      "metadata": {
        "colab": {
          "base_uri": "https://localhost:8080/"
        },
        "id": "ipPMJaVd0eBA",
        "outputId": "bf8b4043-c54c-4d22-c2a3-f2594a9c5a66"
      },
      "outputs": [
        {
          "name": "stdout",
          "output_type": "stream",
          "text": [
            "\n",
            "Be everen threst, him lords you to still grow.\n",
            "Graciong are as to give, A care tenes.\n",
            "\n",
            "BRUTUS:\n",
            "Sid us is took a worst Garlain foot I well and man\n",
            "Bels regoly, you in soul holde\n",
            "Tone our Crivivem out my king our proment\n",
            "hold fither: country lame, coulent that chamed\n",
            "Richman I unted some son, done and dried mearce, in no approuce.\n",
            "\n",
            "SICINIUS:\n",
            "No dismore, know stady my say, the see he do,\n",
            "'Cour me paredom for her one should movest bodie-him,\n",
            "Where it that God\n",
            "Merred full proful\n",
            "As most but warms for fine.\n",
            "'Tis would hears to a scity go me, this truaing make.\n",
            "\n",
            "BOLIONUS:\n",
            "Come, thou who deed in the ower grow; who at the two wreath.\n",
            "Who more the care offel and slought\n",
            "The coped to win creitge niclos that furself;\n",
            "I'll it must, and you roin king\n",
            "Fromed the shephends it.\n",
            "\n",
            "COMINGO:\n",
            "No, but have to muttage woulder aloged\n",
            "Crute and laight. Cate it thun in Donoke.\n",
            "\n",
            "First Give Warwardony corthall, haste of the rest tore the shall\n",
            "Our must you hath hose you moreh, that jrden,\n",
            "Now, to I reft, what is throught\n",
            "Compemniness dutite spice, shalt,\n",
            "I know jows, grow insm the signixe, thee word:\n",
            "Let hath thee affer\n",
            "An guilvil stongued strengny God drives;\n",
            "Come a tick'd aham to me\n",
            "teed the all ragen, these lord; That mell to course and not our so rospent areem?\n",
            "\n",
            "DUKE VINCENTIO:\n",
            "Thats my leept full iffellence; for there can me.\n",
            "\n",
            "DUKE VINCENTIO:\n",
            "What father tent's the wrong, what's no prempints agaice?\n",
            "\n",
            "KING RICHARD III:\n",
            "Ay, be know.\n",
            "\n",
            "LADY CLARENCIO:\n",
            "I can not cage Pxpoiloniss to-ne of broken that ou dly not\n",
            "And fralkingned fellows it be sake whegian to ventionently angrang.\n",
            "\n",
            "ANGER:\n",
            "Them I stay, move orace conse him teevem grow:\n",
            "Got it be me the forent. Mathk, in that proble your are.\n",
            "\n",
            "KING EDWARD VI:\n",
            "O not\n",
            "More How on majasteries unto King her too side?\n",
            "\n",
            "PETUCESS EDY XBORSY:\n",
            "How is in crace in now, thinks, if his aftergued prours and day woulder orry him wittern of on ciour knet him.\n",
            "\n",
            "FORIOR?\n",
            "SIC thou counse the would me, sconten\n",
            "Within thus appit me whichous? what'smen had\n",
            "Agge; the catio w\n"
          ]
        }
      ],
      "source": [
        "# generate from the model\n",
        "context = torch.zeros((1, 1), dtype=torch.long, device=device)\n",
        "print(decode(m.generate(context, max_new_tokens=2000)[0].tolist()))"
      ]
    }
  ],
  "metadata": {
    "accelerator": "GPU",
    "colab": {
      "gpuType": "T4",
      "provenance": []
    },
    "kernelspec": {
      "display_name": "Python 3",
      "name": "python3"
    },
    "language_info": {
      "name": "python"
    }
  },
  "nbformat": 4,
  "nbformat_minor": 0
}
